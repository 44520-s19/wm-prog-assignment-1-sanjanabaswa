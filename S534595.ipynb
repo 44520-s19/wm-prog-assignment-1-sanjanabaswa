{
 "cells": [
  {
   "cell_type": "code",
   "execution_count": null,
   "metadata": {},
   "outputs": [],
   "source": [
    "Sanjana Baswapuram"
   ]
  },
  {
   "cell_type": "code",
   "execution_count": 11,
   "metadata": {},
   "outputs": [
    {
     "name": "stdout",
     "output_type": "stream",
     "text": [
      "#      #\n",
      "##    ##\n",
      "###  ###\n",
      "########\n"
     ]
    }
   ],
   "source": [
    "x = 4\n",
    "lines = 1\n",
    "while lines < x+1:\n",
    "    for a in range(0,lines):\n",
    "        print('#',end = '')\n",
    "    space = (x*2)-(2*lines)\n",
    "    for space  in range(0,space):\n",
    "        print(' ',end = '')\n",
    "    for b in range(0,lines):\n",
    "        print('#', end = '')\n",
    "    print()\n",
    "    lines += 1"
   ]
  },
  {
   "cell_type": "code",
   "execution_count": null,
   "metadata": {},
   "outputs": [],
   "source": []
  },
  {
   "cell_type": "code",
   "execution_count": null,
   "metadata": {},
   "outputs": [],
   "source": []
  }
 ],
 "metadata": {
  "kernelspec": {
   "display_name": "Python 3",
   "language": "python",
   "name": "python3"
  },
  "language_info": {
   "codemirror_mode": {
    "name": "ipython",
    "version": 3
   },
   "file_extension": ".py",
   "mimetype": "text/x-python",
   "name": "python",
   "nbconvert_exporter": "python",
   "pygments_lexer": "ipython3",
   "version": "3.7.3"
  }
 },
 "nbformat": 4,
 "nbformat_minor": 2
}
